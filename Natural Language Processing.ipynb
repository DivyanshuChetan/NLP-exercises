{
 "cells": [
  {
   "cell_type": "code",
   "execution_count": 1,
   "id": "891b33d8",
   "metadata": {},
   "outputs": [
    {
     "name": "stderr",
     "output_type": "stream",
     "text": [
      "[nltk_data] Downloading package punkt to\n",
      "[nltk_data]     C:\\Users\\Soumya\\AppData\\Roaming\\nltk_data...\n",
      "[nltk_data]   Unzipping tokenizers\\punkt.zip.\n"
     ]
    },
    {
     "name": "stdout",
     "output_type": "stream",
     "text": [
      "['Gentlemen', ',', 'you', 'ca', \"n't\", 'fight', 'in', 'her', '!', 'This', 'is', 'the', 'war', 'room', '!']\n"
     ]
    }
   ],
   "source": [
    "import nltk\n",
    "nltk.download('punkt')\n",
    "from nltk.tokenize import word_tokenize\n",
    "text = \"Gentlemen, you can't fight in her! This is the war room!\"\n",
    "print(word_tokenize(text))"
   ]
  },
  {
   "cell_type": "code",
   "execution_count": 2,
   "id": "75078bba",
   "metadata": {},
   "outputs": [
    {
     "name": "stdout",
     "output_type": "stream",
     "text": [
      "[\"Gentlemen, you can't fight in here!\", 'This is the war room!']\n"
     ]
    }
   ],
   "source": [
    "import nltk\n",
    "from nltk.tokenize import sent_tokenize\n",
    "text = \"Gentlemen, you can't fight in here! This is the war room!\"\n",
    "print(sent_tokenize(text))"
   ]
  },
  {
   "cell_type": "code",
   "execution_count": 3,
   "id": "2f119196",
   "metadata": {},
   "outputs": [
    {
     "name": "stderr",
     "output_type": "stream",
     "text": [
      "[nltk_data] Downloading package averaged_perceptron_tagger to\n",
      "[nltk_data]     C:\\Users\\Soumya\\AppData\\Roaming\\nltk_data...\n",
      "[nltk_data]   Unzipping taggers\\averaged_perceptron_tagger.zip.\n"
     ]
    },
    {
     "name": "stdout",
     "output_type": "stream",
     "text": [
      "After Split: ['Don’t', 'worry,', 'Charles,', \"I'm\", 'gonna', 'make', 'him', 'an', 'offer', 'he', \"can't\", 'refuse.']\n",
      "After Token: [('Don’t', 'NNP'), ('worry,', 'NN'), ('Charles,', 'NNP'), (\"I'm\", 'NNP'), ('gonna', 'NNS'), ('make', 'VBP'), ('him', 'PRP'), ('an', 'DT'), ('offer', 'NN'), ('he', 'PRP'), (\"can't\", 'VBZ'), ('refuse.', 'VB')]\n",
      "After Regex: chunk.RegexpParser with 1 stages:\n",
      "RegexpChunkParser with 1 rules:\n",
      "       <ChunkRule: '<NN.?>*<VBD.?>*<JJ.?>*<CC>?'>\n",
      "After Chunking (S\n",
      "  (mychunk Don’t/NNP worry,/NN Charles,/NNP I'm/NNP gonna/NNS)\n",
      "  make/VBP\n",
      "  him/PRP\n",
      "  an/DT\n",
      "  (mychunk offer/NN)\n",
      "  he/PRP\n",
      "  can't/VBZ\n",
      "  refuse./VB)\n"
     ]
    }
   ],
   "source": [
    "import nltk\n",
    "nltk.download('averaged_perceptron_tagger')\n",
    "from nltk import pos_tag\n",
    "from nltk import RegexpParser\n",
    "text =\"Don’t worry, Charles, I'm gonna make him an offer he can't refuse.\".split()\n",
    "print( \"After Split:\", text)\n",
    "tokens_tag = pos_tag(text)\n",
    "print(\"After Token:\",tokens_tag)\n",
    "patterns= \"\"\"mychunk:{<NN.?>*<VBD.?>*<JJ.?>*<CC>?}\"\"\"\n",
    "chunker = RegexpParser(patterns)\n",
    "print(\"After Regex:\",chunker)\n",
    "output = chunker.parse(tokens_tag)\n",
    "print(\"After Chunking\",output) "
   ]
  },
  {
   "cell_type": "code",
   "execution_count": 5,
   "id": "06ddcee5",
   "metadata": {},
   "outputs": [
    {
     "name": "stdout",
     "output_type": "stream",
     "text": [
      "Counter({'NN': 8, 'VB': 8, 'PRP': 7, ',': 5, 'TO': 4, '.': 4, 'VBP': 4, 'IN': 4, 'VBG': 4, 'JJ': 4, 'RB': 2, 'CC': 2, 'PRP$': 1, 'DT': 1, 'NNP': 1})\n"
     ]
    }
   ],
   "source": [
    "from collections import Counter\n",
    "import nltk\n",
    "text = \"Listen to me. You’re my knight in shining armor. Don’t you forget it. You’re going to get back on that horse, and I’m going to be right behind you, holding on tight, and away we’re gonna go, go, go!\"\n",
    "lower_case = text.lower()\n",
    "tokens = nltk.word_tokenize(lower_case)\n",
    "tags = nltk.pos_tag(tokens)\n",
    "counts = Counter( tag for word, tag in tags)\n",
    "print(counts)"
   ]
  },
  {
   "cell_type": "code",
   "execution_count": 6,
   "id": "f2e9ae1a",
   "metadata": {},
   "outputs": [
    {
     "data": {
      "image/png": "[encoded data removed]",
      "text/plain": [
       "<Figure size 432x288 with 1 Axes>"
      ]
     },
     "metadata": {
      "needs_background": "light"
     },
     "output_type": "display_data"
    },
    {
     "data": {
      "text/plain": [
       "<AxesSubplot:xlabel='Samples', ylabel='Counts'>"
      ]
     },
     "execution_count": 6,
     "metadata": {},
     "output_type": "execute_result"
    }
   ],
   "source": [
    "import nltk\n",
    "a = \"The poets and philosophers before me discovered the unconscious; what I discovered was the scientific method by which the unconscious can be studied.\"\n",
    "words = nltk.tokenize.word_tokenize(a)\n",
    "fd = nltk.FreqDist(words)\n",
    "fd. plot()"
   ]
  },
  {
   "cell_type": "code",
   "execution_count": 7,
   "id": "28ba673c",
   "metadata": {},
   "outputs": [
    {
     "name": "stdout",
     "output_type": "stream",
     "text": [
      "[('Of', 'course'), ('course', 'we'), ('we', '’'), ('’', 're'), ('re', 'frightened'), ('frightened', 'sometimes'), ('sometimes', 'but'), ('but', 'we'), ('we', 'put'), ('put', 'up'), ('up', 'with'), ('with', 'being'), ('being', 'frightened'), ('frightened', '.')]\n"
     ]
    }
   ],
   "source": [
    "import nltk\n",
    "text = \"Of course we’re frightened sometimes but we put up with being frightened.\"\n",
    "Tokens = nltk.word_tokenize(text)\n",
    "output = list(nltk.bigrams(Tokens))\n",
    "print(output)"
   ]
  },
  {
   "cell_type": "code",
   "execution_count": 10,
   "id": "5897d526",
   "metadata": {},
   "outputs": [
    {
     "name": "stdout",
     "output_type": "stream",
     "text": [
      "dream\n",
      "dream\n",
      "dream\n",
      "dream\n"
     ]
    }
   ],
   "source": [
    "from nltk.stem import PorterStemmer\n",
    "e_words= [\"dream\", \"dreaming\", \"dreamed\", \"dreams\"]\n",
    "ps =PorterStemmer()\n",
    "for w in e_words:\n",
    "    rootWord=ps.stem(w)\n",
    "    print(rootWord)"
   ]
  },
  {
   "cell_type": "code",
   "execution_count": null,
   "id": "4b8fecb7",
   "metadata": {},
   "outputs": [],
   "source": []
  }
 ],
 "metadata": {
  "kernelspec": {
   "display_name": "Python 3 (ipykernel)",
   "language": "python",
   "name": "python3"
  },
  "language_info": {
   "codemirror_mode": {
    "name": "ipython",
    "version": 3
   },
   "file_extension": ".py",
   "mimetype": "text/x-python",
   "name": "python",
   "nbconvert_exporter": "python",
   "pygments_lexer": "ipython3",
   "version": "3.9.7"
  }
 },
 "nbformat": 4,
 "nbformat_minor": 5
}
